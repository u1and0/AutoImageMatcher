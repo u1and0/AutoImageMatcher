{
 "cells": [
  {
   "cell_type": "code",
   "execution_count": 2,
   "id": "93f350f8",
   "metadata": {
    "ExecuteTime": {
     "end_time": "2023-05-19T03:03:42.992211Z",
     "start_time": "2023-05-19T03:03:42.859652Z"
    }
   },
   "outputs": [],
   "source": [
    "import os\n",
    "import cv2\n",
    "from IPython.display import display, Image\n",
    "\n",
    "# script を使えるように\n",
    "import sys\n",
    "sys.path.append(\"..\")"
   ]
  },
  {
   "cell_type": "code",
   "execution_count": 3,
   "id": "8c048105",
   "metadata": {
    "ExecuteTime": {
     "end_time": "2023-05-19T03:03:43.736908Z",
     "start_time": "2023-05-19T03:03:43.580896Z"
    },
    "cell_style": "center"
   },
   "outputs": [
    {
     "ename": "ModuleNotFoundError",
     "evalue": "No module named 'skimage'",
     "output_type": "error",
     "traceback": [
      "\u001b[0;31m---------------------------------------------------------------------------\u001b[0m",
      "\u001b[0;31mModuleNotFoundError\u001b[0m                       Traceback (most recent call last)",
      "Input \u001b[0;32mIn [3]\u001b[0m, in \u001b[0;36m<cell line: 1>\u001b[0;34m()\u001b[0m\n\u001b[0;32m----> 1\u001b[0m \u001b[38;5;28;01mimport\u001b[39;00m \u001b[38;5;21;01mimage_compare\u001b[39;00m\n",
      "File \u001b[0;32m/mnt/2_Common/06_ツール/software/python/AutoImageMatcher/note/../image_compare.py:6\u001b[0m, in \u001b[0;36m<module>\u001b[0;34m\u001b[0m\n\u001b[1;32m      4\u001b[0m \u001b[38;5;28;01mfrom\u001b[39;00m \u001b[38;5;21;01mIPython\u001b[39;00m\u001b[38;5;21;01m.\u001b[39;00m\u001b[38;5;21;01mdisplay\u001b[39;00m \u001b[38;5;28;01mimport\u001b[39;00m display, Image\n\u001b[1;32m      5\u001b[0m \u001b[38;5;28;01mimport\u001b[39;00m \u001b[38;5;21;01mcv2\u001b[39;00m\n\u001b[0;32m----> 6\u001b[0m \u001b[38;5;28;01mfrom\u001b[39;00m \u001b[38;5;21;01mskimage\u001b[39;00m\u001b[38;5;21;01m.\u001b[39;00m\u001b[38;5;21;01mmetrics\u001b[39;00m \u001b[38;5;28;01mimport\u001b[39;00m structural_similarity \u001b[38;5;28;01mas\u001b[39;00m compare_ssim\n\u001b[1;32m      9\u001b[0m \u001b[38;5;28;01mdef\u001b[39;00m \u001b[38;5;21mcalculate_similarity\u001b[39m(image1: \u001b[38;5;28mstr\u001b[39m, image2: \u001b[38;5;28mstr\u001b[39m) \u001b[38;5;241m-\u001b[39m\u001b[38;5;241m>\u001b[39m \u001b[38;5;28mfloat\u001b[39m:\n\u001b[1;32m     10\u001b[0m     \u001b[38;5;124;03m\"\"\"2つの画像のSSIM(Structual Similarity Index)を算出し、\u001b[39;00m\n\u001b[1;32m     11\u001b[0m \u001b[38;5;124;03m    画像の類似度をfloatで返す。\u001b[39;00m\n\u001b[1;32m     12\u001b[0m \n\u001b[0;32m   (...)\u001b[0m\n\u001b[1;32m     19\u001b[0m \u001b[38;5;124;03m    similarity: float - -1~1の範囲で表され、1に近いほど2つの画像がより類似している\u001b[39;00m\n\u001b[1;32m     20\u001b[0m \u001b[38;5;124;03m    \"\"\"\u001b[39;00m\n",
      "\u001b[0;31mModuleNotFoundError\u001b[0m: No module named 'skimage'"
     ]
    }
   ],
   "source": [
    "import image_compare"
   ]
  },
  {
   "cell_type": "code",
   "execution_count": null,
   "id": "3ed8a4e7",
   "metadata": {
    "ExecuteTime": {
     "end_time": "2023-05-19T03:02:35.588297Z",
     "start_time": "2023-05-19T03:02:35.588280Z"
    }
   },
   "outputs": [],
   "source": [
    "target_image = \"../test/145.jpg\"\n",
    "image_iter = (os.path.join(\"../data\", f) for f in os.listdir(\"../data\"))"
   ]
  },
  {
   "cell_type": "code",
   "execution_count": null,
   "id": "95550080",
   "metadata": {
    "ExecuteTime": {
     "end_time": "2023-05-19T03:02:35.589690Z",
     "start_time": "2023-05-19T03:02:35.589673Z"
    }
   },
   "outputs": [],
   "source": [
    "most_similar_image_path = image_compare.find_most_similar_image(target_image, *image_iter)"
   ]
  },
  {
   "cell_type": "code",
   "execution_count": null,
   "id": "5f8cddad",
   "metadata": {
    "ExecuteTime": {
     "end_time": "2023-05-19T03:02:35.591737Z",
     "start_time": "2023-05-19T03:02:35.591716Z"
    }
   },
   "outputs": [],
   "source": [
    "most_similar_image_path"
   ]
  },
  {
   "cell_type": "markdown",
   "id": "96520b2a",
   "metadata": {
    "ExecuteTime": {
     "end_time": "2023-05-18T02:14:48.808091Z",
     "start_time": "2023-05-18T02:14:48.793644Z"
    },
    "cell_style": "center"
   },
   "source": [
    "jpgイメージをセルに表示"
   ]
  },
  {
   "cell_type": "code",
   "execution_count": null,
   "id": "2cc6aa67",
   "metadata": {
    "ExecuteTime": {
     "end_time": "2023-05-19T03:02:35.593645Z",
     "start_time": "2023-05-19T03:02:35.593618Z"
    },
    "cell_style": "split"
   },
   "outputs": [],
   "source": [
    "most_similar_image = cv2.imread(most_similar_image_path)\n",
    "_, buf = cv2.imencode(\".jpg\", most_similar_image)\n",
    "display(Image(data=buf.tobytes()))"
   ]
  },
  {
   "cell_type": "markdown",
   "id": "348837f5",
   "metadata": {
    "cell_style": "split"
   },
   "source": [
    "最も類似した画像"
   ]
  },
  {
   "cell_type": "markdown",
   "id": "872b8bb5",
   "metadata": {
    "cell_style": "split"
   },
   "source": [
    "画像をnotebookに表示するコードを関数化します"
   ]
  },
  {
   "cell_type": "code",
   "execution_count": null,
   "id": "abe19a99",
   "metadata": {
    "ExecuteTime": {
     "end_time": "2023-05-19T03:02:35.595230Z",
     "start_time": "2023-05-19T03:02:35.595213Z"
    },
    "cell_style": "split"
   },
   "outputs": [],
   "source": [
    "def display_notebook(image_path:str):\n",
    "    image = cv2.imread(image_path)\n",
    "    _, buf = cv2.imencode(\".jpg\", image)\n",
    "    display(Image(data=buf.tobytes()))"
   ]
  },
  {
   "cell_type": "code",
   "execution_count": null,
   "id": "d9fcb7e1",
   "metadata": {
    "ExecuteTime": {
     "end_time": "2023-05-19T03:02:35.596828Z",
     "start_time": "2023-05-19T03:02:35.596811Z"
    },
    "cell_style": "split"
   },
   "outputs": [],
   "source": [
    "display_notebook(target_image )"
   ]
  },
  {
   "cell_type": "markdown",
   "id": "0dc30e4b",
   "metadata": {
    "cell_style": "split"
   },
   "source": [
    "ターゲットの画像\n",
    "\n",
    "確かに似ています"
   ]
  },
  {
   "cell_type": "markdown",
   "id": "1d163cd4",
   "metadata": {},
   "source": [
    "スコアの高い順に3つ表示"
   ]
  },
  {
   "cell_type": "code",
   "execution_count": null,
   "id": "44f83e68",
   "metadata": {
    "ExecuteTime": {
     "end_time": "2023-05-19T03:02:35.598440Z",
     "start_time": "2023-05-19T03:02:35.598421Z"
    }
   },
   "outputs": [],
   "source": [
    "# dataイメージを再設定\n",
    "image_iter = (os.path.join(\"../data\", f) for f in os.listdir(\"../data\"))"
   ]
  },
  {
   "cell_type": "code",
   "execution_count": null,
   "id": "b1dd6336",
   "metadata": {
    "ExecuteTime": {
     "end_time": "2023-05-19T03:02:35.599945Z",
     "start_time": "2023-05-19T03:02:35.599928Z"
    }
   },
   "outputs": [],
   "source": [
    "image_score = image_compare.list_similar_images(target_image, *image_iter)\n",
    "image_score"
   ]
  },
  {
   "cell_type": "code",
   "execution_count": null,
   "id": "2dfddfd3",
   "metadata": {
    "ExecuteTime": {
     "end_time": "2023-05-19T03:02:35.601800Z",
     "start_time": "2023-05-19T03:02:35.601780Z"
    },
    "scrolled": false
   },
   "outputs": [],
   "source": [
    "for i in image_score[:5]:\n",
    "    image_compare.display_notebook(i[0])"
   ]
  },
  {
   "cell_type": "markdown",
   "id": "f9a97070",
   "metadata": {},
   "source": [
    "ダンボール箱が誤認識すぎる！"
   ]
  },
  {
   "cell_type": "code",
   "execution_count": null,
   "id": "f719d975",
   "metadata": {},
   "outputs": [],
   "source": []
  }
 ],
 "metadata": {
  "hide_input": false,
  "kernelspec": {
   "display_name": "Python 3 (ipykernel)",
   "language": "python",
   "name": "python3"
  },
  "language_info": {
   "codemirror_mode": {
    "name": "ipython",
    "version": 3
   },
   "file_extension": ".py",
   "mimetype": "text/x-python",
   "name": "python",
   "nbconvert_exporter": "python",
   "pygments_lexer": "ipython3",
   "version": "3.9.12"
  },
  "toc": {
   "base_numbering": 1,
   "nav_menu": {},
   "number_sections": true,
   "sideBar": true,
   "skip_h1_title": false,
   "title_cell": "Table of Contents",
   "title_sidebar": "Contents",
   "toc_cell": false,
   "toc_position": {},
   "toc_section_display": true,
   "toc_window_display": false
  }
 },
 "nbformat": 4,
 "nbformat_minor": 5
}
